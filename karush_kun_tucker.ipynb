{
  "nbformat": 4,
  "nbformat_minor": 0,
  "metadata": {
    "colab": {
      "provenance": []
    },
    "kernelspec": {
      "name": "python3",
      "display_name": "Python 3"
    },
    "language_info": {
      "name": "python"
    }
  },
  "cells": [
    {
      "cell_type": "code",
      "execution_count": 1,
      "metadata": {
        "id": "Vm8m0bNVocwi"
      },
      "outputs": [],
      "source": [
        "from sympy import*\n",
        "import numpy as np\n",
        "init_printing(use_unicode=False)"
      ]
    },
    {
      "cell_type": "code",
      "source": [
        "def lagrange():\n",
        "  m=int(input(\"Masukan banyak variabel : \"))\n",
        "  tanda=[]\n",
        "  for i in range(m):\n",
        "    masuk=input(f\"Masukan variabel-{i+1} : \")\n",
        "    tanda.append(masuk)\n",
        "  tanda=symbols(tanda)\n",
        "  fungsi=input(\"Masukan fungsi : \")\n",
        "  fungsi=sympify(fungsi)\n",
        "  n=int(input(\"Masukan banyak kendala : \"))\n",
        "  kendala=[symbols(f\"lambda{i}\")for i in range(n)]\n",
        "  fungsi_k=[]\n",
        "  for i in range(n):\n",
        "    masuk=input(f\"Masukan kendala ke-{i+1} : \")\n",
        "    fungsi_k.append(masuk)\n",
        "  fungsi_k=sympify(fungsi_k)\n",
        "  L=0\n",
        "  for i in range(n):\n",
        "    L+=fungsi_k[i]*kendala[i]\n",
        "  L=L+fungsi\n",
        "  turunan=[]\n",
        "  gabung=tanda+kendala\n",
        "  for i in range(len(gabung)):\n",
        "    turunan.append(diff(L,gabung[i]))\n",
        "  solusi=solve(turunan,gabung)\n",
        "  return fungsi,solusi\n",
        "\n"
      ],
      "metadata": {
        "id": "835OrtydSPAU"
      },
      "execution_count": 2,
      "outputs": []
    },
    {
      "cell_type": "code",
      "source": [
        "fungsi,solusi=lagrange()"
      ],
      "metadata": {
        "colab": {
          "base_uri": "https://localhost:8080/"
        },
        "id": "jEEXkuxpWy-F",
        "outputId": "0761eca5-dacc-4c44-986f-e964d6d0575a"
      },
      "execution_count": null,
      "outputs": [
        {
          "name": "stdout",
          "output_type": "stream",
          "text": [
            "Masukan banyak variabel : 3\n",
            "Masukan variabel-1 : x\n",
            "Masukan variabel-2 : y\n",
            "Masukan variabel-3 : z\n",
            "Masukan fungsi : x**2+y**2+z**2-27\n",
            "Masukan banyak kendala : 3\n",
            "Masukan kendala ke-1 : x+2\n",
            "Masukan kendala ke-2 : y+4\n",
            "Masukan kendala ke-3 : z+2+x\n"
          ]
        }
      ]
    },
    {
      "cell_type": "code",
      "source": [
        "fungsi"
      ],
      "metadata": {
        "colab": {
          "base_uri": "https://localhost:8080/",
          "height": 39
        },
        "id": "-E-IbEH5W1FT",
        "outputId": "214c6242-21d1-4e94-eaf4-ff5dbc692cc7"
      },
      "execution_count": null,
      "outputs": [
        {
          "output_type": "execute_result",
          "data": {
            "text/plain": [
              " 2    2    2     \n",
              "x  + y  + z  - 27"
            ],
            "text/latex": "$\\displaystyle x^{2} + y^{2} + z^{2} - 27$"
          },
          "metadata": {},
          "execution_count": 39
        }
      ]
    },
    {
      "cell_type": "code",
      "source": [
        "solusi"
      ],
      "metadata": {
        "colab": {
          "base_uri": "https://localhost:8080/",
          "height": 39
        },
        "id": "m98qr0tjW_Bt",
        "outputId": "5b276292-a9a9-460d-ec97-a963ce9b0acf"
      },
      "execution_count": null,
      "outputs": [
        {
          "output_type": "execute_result",
          "data": {
            "text/plain": [
              "{lambda0: 4, lambda1: 8, lambda2: 0, x: -2, y: -4, z: 0}"
            ],
            "text/latex": "$\\displaystyle \\left\\{ \\lambda_{0} : 4, \\  \\lambda_{1} : 8, \\  \\lambda_{2} : 0, \\  x : -2, \\  y : -4, \\  z : 0\\right\\}$"
          },
          "metadata": {},
          "execution_count": 42
        }
      ]
    },
    {
      "cell_type": "markdown",
      "source": [
        "# kuhn tucker"
      ],
      "metadata": {
        "id": "Z5G_NXq6bbNM"
      }
    },
    {
      "cell_type": "code",
      "source": [
        "from sympy import *\n",
        "\n",
        "def kkt():\n",
        "    m = int(input(\"Masukan banyak variabel: \"))\n",
        "    var = []\n",
        "    for i in range(m):\n",
        "        masuk = input(f\"Masukan variabel-{i + 1}: \")\n",
        "        var.append(masuk)\n",
        "    var = symbols(var)\n",
        "    fungsi = input(\"Masukan fungsi: \")\n",
        "    fungsi = sympify(fungsi)\n",
        "\n",
        "    G = 0\n",
        "    H = 0\n",
        "    g = []\n",
        "    h = []\n",
        "\n",
        "    n = int(input(\"Masukan banyak kendala: \"))\n",
        "    fk = []\n",
        "    tanda = []\n",
        "\n",
        "    for i in range(n):\n",
        "        masuk = input(f\"Masukan kendala ke-{i + 1}: \")\n",
        "        masuk_tanda = input(f\"Masukan tanda ke-{i + 1}: \")\n",
        "        masuk = sympify(masuk)\n",
        "        tanda.append(masuk_tanda)\n",
        "        fk.append(masuk)\n",
        "\n",
        "        if tanda[i] == '=':\n",
        "            fk.append(masuk)\n",
        "            h.append(masuk)\n",
        "            H += 1\n",
        "        elif tanda[i] == '>=':\n",
        "            fk.append(-masuk)\n",
        "            g.append(-masuk)\n",
        "            G += 1\n",
        "        else:\n",
        "            fk.append(masuk)\n",
        "            g.append(masuk)\n",
        "            G += 1\n",
        "\n",
        "    fk = sympify(fk)\n",
        "    var_g = [symbols(f\"lambda{i}\")for i in range(G)]\n",
        "    var_h = [symbols(f\"pi{i}\") for i in range(H)]\n",
        "    componen_g = [g[i] * var_g[i] for i in range(G)]\n",
        "    componen_h = [h[i] * var_h[i] for i in range(H)]\n",
        "    gabungan = var + var_g + var_h\n",
        "\n",
        "    hesian = hessian(fungsi, var)\n",
        "    kondisi = hesian.is_positive_definite\n",
        "\n",
        "    if kondisi:\n",
        "        if H == 0:\n",
        "            zero_h = zeros(len(var), 1)\n",
        "            h=zeros(len(var), 1)\n",
        "\n",
        "        else:\n",
        "            gradh = [diff(i, j) for i in componen_h for j in var]\n",
        "            gradh = Matrix(gradh)\n",
        "            gradh = gradh.reshape(H, len(var)).T\n",
        "            zero_h = zeros(len(var), 1)\n",
        "            for i in range(len(gradh[0, :])):\n",
        "                zero_h += gradh[:, i]\n",
        "\n",
        "        if G == 0:\n",
        "            zero_g = zeros(len(var), 1)\n",
        "            g=zeros(len(var), 1)\n",
        "\n",
        "        else:\n",
        "            gradg = [diff(i, j) for i in componen_g for j in var]\n",
        "            gradg = Matrix(gradg)\n",
        "            gradg = gradg.reshape(G, len(var)).T\n",
        "            zero_g = zeros(len(var), 1)\n",
        "\n",
        "            for i in range(len(gradg[0, :])):\n",
        "                zero_g += gradg[:, i]\n",
        "\n",
        "        gradf = [diff(fungsi, j) for j in var]\n",
        "        gradf = Matrix(gradf)\n",
        "        componen_g = Matrix(componen_g)\n",
        "        g=Matrix(g)\n",
        "        h=Matrix(h)\n",
        "        L = gradf + zero_g + zero_h\n",
        "        L = L.col_join(componen_g)\n",
        "        L = L.col_join(h)\n",
        "        L = L.col_join(g)\n",
        "        solusi = solve(L, gabungan)\n",
        "        solutions = [dict(zip(gabungan, i)) for i in solusi]\n",
        "\n",
        "        return fungsi, solutions\n",
        "    else:\n",
        "        return \"Tidak ada solusi\"\n",
        "\n"
      ],
      "metadata": {
        "id": "Iol2fi_NW_aK"
      },
      "execution_count": 3,
      "outputs": []
    },
    {
      "cell_type": "code",
      "source": [
        "\n",
        "fungsi, solutions = kkt()\n",
        "print(\"Fungsi: \", fungsi)\n",
        "print(\"Solutions: \", solutions)"
      ],
      "metadata": {
        "colab": {
          "base_uri": "https://localhost:8080/"
        },
        "id": "90-1fHzcIh8K",
        "outputId": "63f33a1f-2ac0-4f00-8d71-4d9ff795e458"
      },
      "execution_count": null,
      "outputs": [
        {
          "output_type": "stream",
          "name": "stdout",
          "text": [
            "Masukan banyak variabel: 3\n",
            "Masukan variabel-1: x\n",
            "Masukan variabel-2: y\n",
            "Masukan variabel-3: z\n",
            "Masukan fungsi:  x**2+y**2+z**2+40*x+20*y\n",
            "Masukan banyak kendala: 3\n",
            "Masukan kendala ke-1: x-50\n",
            "Masukan tanda ke-1: >=\n",
            "Masukan kendala ke-2: x+y-100\n",
            "Masukan tanda ke-2: >=\n",
            "Masukan kendala ke-3: x+y+z-150\n",
            "Masukan tanda ke-3: >=\n",
            "Fungsi:  x**2 + 40*x + y**2 + 20*y + z**2\n",
            "Solutions:  [{x: 50, y: 50, z: 50, lambda0: 20, lambda1: 20, lambda2: 100}]\n"
          ]
        }
      ]
    }
  ]
}