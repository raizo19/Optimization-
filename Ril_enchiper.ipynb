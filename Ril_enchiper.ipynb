{
  "nbformat": 4,
  "nbformat_minor": 0,
  "metadata": {
    "colab": {
      "provenance": []
    },
    "kernelspec": {
      "name": "python3",
      "display_name": "Python 3"
    },
    "language_info": {
      "name": "python"
    }
  },
  "cells": [
    {
      "cell_type": "code",
      "execution_count": null,
      "metadata": {
        "id": "ybu_VpuFNZqs"
      },
      "outputs": [],
      "source": [
        "import numpy as np  # Library berkaitan array dan matriks\n",
        "from sympy import*"
      ]
    },
    {
      "cell_type": "code",
      "source": [
        "# Buat list berisi abjad, perhatikan \"Z\" diletakkan di awal agar memiliki indeks atau nilai numerik 0, lihat Tabel 1\n",
        "abjad = ['Z','A','B','C','D','E','F','G','H','I','J','K','L','M','N','O','P','Q','R','S','T','U','V','W','X','Y']"
      ],
      "metadata": {
        "id": "w2kd0lPaOSDv"
      },
      "execution_count": null,
      "outputs": []
    },
    {
      "cell_type": "code",
      "source": [
        "def cekdet(a) :\n",
        "  if a== None:\n",
        "    return False\n",
        "  else :\n",
        "    return True"
      ],
      "metadata": {
        "id": "Dd0UZev6OTqf"
      },
      "execution_count": null,
      "outputs": []
    },
    {
      "cell_type": "code",
      "source": [
        "def extended_gcd(a, b):\n",
        "    if b == 0:\n",
        "        return a, 1, 0\n",
        "    else:\n",
        "        gcd, x, y = extended_gcd(b, a % b)\n",
        "        return gcd, y, x - (a // b) * y\n",
        "\n",
        "def invers_mod(a, m):\n",
        "    gcd, x, y = extended_gcd(a, m)\n",
        "    if gcd != 1:\n",
        "        return None\n",
        "    else:\n",
        "        return x % m"
      ],
      "metadata": {
        "id": "BqYwNuY3OV-f"
      },
      "execution_count": null,
      "outputs": []
    },
    {
      "cell_type": "code",
      "source": [
        "n=4\n",
        "matrix=[[1,2,3,3],[2,1,4,5],[6,6,5,4],[7,8,9,0]]\n",
        "matrix=Matrix(matrix)\n",
        "matrix=Matrix(matrix)\n",
        "display(matrix)"
      ],
      "metadata": {
        "colab": {
          "base_uri": "https://localhost:8080/",
          "height": 98
        },
        "id": "YWDvzJF5OXvw",
        "outputId": "d7c1f769-4787-40c8-c6bf-118b462200b5"
      },
      "execution_count": null,
      "outputs": [
        {
          "output_type": "display_data",
          "data": {
            "text/plain": [
              "Matrix([\n",
              "[1, 2, 3, 3],\n",
              "[2, 1, 4, 5],\n",
              "[6, 6, 5, 4],\n",
              "[7, 8, 9, 0]])"
            ],
            "text/latex": "$\\displaystyle \\left[\\begin{matrix}1 & 2 & 3 & 3\\\\2 & 1 & 4 & 5\\\\6 & 6 & 5 & 4\\\\7 & 8 & 9 & 0\\end{matrix}\\right]$"
          },
          "metadata": {}
        }
      ]
    },
    {
      "cell_type": "code",
      "source": [
        "adj=matrix.inv()*det(matrix)"
      ],
      "metadata": {
        "id": "1HfjTnG5OfqW"
      },
      "execution_count": null,
      "outputs": []
    },
    {
      "cell_type": "code",
      "source": [
        "inv_matrix=invers_mod(det(matrix),len(abjad))*adj%len(abjad)\n",
        "inv_matrix"
      ],
      "metadata": {
        "colab": {
          "base_uri": "https://localhost:8080/",
          "height": 98
        },
        "id": "ZtYDKUO3Ohb4",
        "outputId": "79409e1c-d739-46cd-a75a-f5c8fd92b337"
      },
      "execution_count": null,
      "outputs": [
        {
          "output_type": "execute_result",
          "data": {
            "text/plain": [
              "Matrix([\n",
              "[18, 10, 13, 17],\n",
              "[11,  3, 14, 19],\n",
              "[ 8,  4, 15, 22],\n",
              "[ 5,  8,  6,  3]])"
            ],
            "text/latex": "$\\displaystyle \\left[\\begin{matrix}18 & 10 & 13 & 17\\\\11 & 3 & 14 & 19\\\\8 & 4 & 15 & 22\\\\5 & 8 & 6 & 3\\end{matrix}\\right]$"
          },
          "metadata": {},
          "execution_count": 34
        }
      ]
    },
    {
      "cell_type": "code",
      "source": [
        "if cekdet(invers_mod(det(matrix),len(abjad)))== None :\n",
        "  print(\"Gabisa dipakai\")\n",
        "else :\n",
        "  p_input = \"I AM HIDING\" # coba input: I AM HIDING\n",
        "  # ubah plaintext p_input tanpa spasi bernama p_new\n",
        "  p_new = p_input.replace(\" \",\"\")\n",
        "  p_new=p_new.upper()\n",
        "  dummy=p_new\n",
        "  r=len(p_new)%n#residu\n",
        "  s=len(p_new)%n#residu\n",
        "  print(r)\n",
        "  if r!=0:\n",
        "    while r%n!=0:\n",
        "      p_new = p_new + dummy[-1]\n",
        "      r=r+1\n",
        "      print(r)\n",
        "  # gantilah tiap huruf plaintext dengan nilai numeriknya, list bernama p\n",
        "  p = [abjad.index(i) for i in p_new]\n",
        "  p=Matrix(p)"
      ],
      "metadata": {
        "colab": {
          "base_uri": "https://localhost:8080/"
        },
        "id": "hi8jar0ZOi-v",
        "outputId": "e9ddcef4-7643-4f2a-eb00-484b816c79b5"
      },
      "execution_count": null,
      "outputs": [
        {
          "output_type": "stream",
          "name": "stdout",
          "text": [
            "1\n",
            "2\n",
            "3\n",
            "4\n"
          ]
        }
      ]
    },
    {
      "cell_type": "code",
      "source": [
        "p"
      ],
      "metadata": {
        "colab": {
          "base_uri": "https://localhost:8080/",
          "height": 261
        },
        "id": "WhUBuaUoPPDA",
        "outputId": "3e0df397-55f1-420a-8285-30898594bc81"
      },
      "execution_count": null,
      "outputs": [
        {
          "output_type": "execute_result",
          "data": {
            "text/plain": [
              "Matrix([\n",
              "[ 9],\n",
              "[ 1],\n",
              "[13],\n",
              "[ 8],\n",
              "[ 9],\n",
              "[ 4],\n",
              "[ 9],\n",
              "[14],\n",
              "[ 7],\n",
              "[ 7],\n",
              "[ 7],\n",
              "[ 7]])"
            ],
            "text/latex": "$\\displaystyle \\left[\\begin{matrix}9\\\\1\\\\13\\\\8\\\\9\\\\4\\\\9\\\\14\\\\7\\\\7\\\\7\\\\7\\end{matrix}\\right]$"
          },
          "metadata": {},
          "execution_count": 36
        }
      ]
    },
    {
      "cell_type": "code",
      "source": [
        "# Inisialisasi matriks p0, p1, p2, p3 menggunakan looping\n",
        "p_matrices = []\n",
        "for i in range(0, len(p), n):\n",
        "    p_matrices.append(Matrix(p[i:i+n]))\n"
      ],
      "metadata": {
        "id": "LfneD1LjPi3W"
      },
      "execution_count": null,
      "outputs": []
    },
    {
      "cell_type": "code",
      "source": [
        "matrix*p_matrices[0]%len(abjad)"
      ],
      "metadata": {
        "colab": {
          "base_uri": "https://localhost:8080/",
          "height": 98
        },
        "id": "gGM74vrORiD4",
        "outputId": "06a5989d-2531-49e9-a342-4853052e90a7"
      },
      "execution_count": null,
      "outputs": [
        {
          "output_type": "execute_result",
          "data": {
            "text/plain": [
              "Matrix([\n",
              "[22],\n",
              "[ 7],\n",
              "[ 1],\n",
              "[ 6]])"
            ],
            "text/latex": "$\\displaystyle \\left[\\begin{matrix}22\\\\7\\\\1\\\\6\\end{matrix}\\right]$"
          },
          "metadata": {},
          "execution_count": 38
        }
      ]
    },
    {
      "cell_type": "code",
      "source": [
        "matrix*p_matrices[1]%len(abjad)"
      ],
      "metadata": {
        "colab": {
          "base_uri": "https://localhost:8080/",
          "height": 98
        },
        "id": "q8CkUtJoRl83",
        "outputId": "818c23b9-e29a-4267-c52f-07ce02f881c2"
      },
      "execution_count": null,
      "outputs": [
        {
          "output_type": "execute_result",
          "data": {
            "text/plain": [
              "Matrix([\n",
              "[ 8],\n",
              "[24],\n",
              "[23],\n",
              "[20]])"
            ],
            "text/latex": "$\\displaystyle \\left[\\begin{matrix}8\\\\24\\\\23\\\\20\\end{matrix}\\right]$"
          },
          "metadata": {},
          "execution_count": 39
        }
      ]
    },
    {
      "cell_type": "code",
      "source": [
        "c=[]\n",
        "for i in range(len(p_matrices)):\n",
        "  c.append(matrix*p_matrices[i]%len(abjad))\n",
        "c=Matrix(c)\n",
        "c"
      ],
      "metadata": {
        "colab": {
          "base_uri": "https://localhost:8080/",
          "height": 261
        },
        "id": "j6bFM80aP0lm",
        "outputId": "c8b34e04-637d-411d-b637-8df1fb399d12"
      },
      "execution_count": null,
      "outputs": [
        {
          "output_type": "execute_result",
          "data": {
            "text/plain": [
              "Matrix([\n",
              "[22],\n",
              "[ 7],\n",
              "[ 1],\n",
              "[ 6],\n",
              "[ 8],\n",
              "[24],\n",
              "[23],\n",
              "[20],\n",
              "[11],\n",
              "[ 6],\n",
              "[17],\n",
              "[12]])"
            ],
            "text/latex": "$\\displaystyle \\left[\\begin{matrix}22\\\\7\\\\1\\\\6\\\\8\\\\24\\\\23\\\\20\\\\11\\\\6\\\\17\\\\12\\end{matrix}\\right]$"
          },
          "metadata": {},
          "execution_count": 40
        }
      ]
    },
    {
      "cell_type": "code",
      "source": [
        "# LANGKAH 4. Ubahlah tiap vektor ciphertext menjadi abjad ekivalennya\n",
        "# buat list C_new_abj berisi pasangan abjad ciphertext\n",
        "C_new_abj = []\n",
        "for j in range(int(len(c))):\n",
        "  C_new_abj.append([abjad[c[j]]])  # C_new diubah dalam abjad menjadi C_new_abj"
      ],
      "metadata": {
        "id": "uYepENv8P8nG"
      },
      "execution_count": null,
      "outputs": []
    },
    {
      "cell_type": "code",
      "source": [
        "C_new_abj"
      ],
      "metadata": {
        "colab": {
          "base_uri": "https://localhost:8080/"
        },
        "id": "7RUPkg92S80o",
        "outputId": "52e5a349-c0b8-48e9-d663-ed9f70462335"
      },
      "execution_count": null,
      "outputs": [
        {
          "output_type": "execute_result",
          "data": {
            "text/plain": [
              "[['V'],\n",
              " ['G'],\n",
              " ['A'],\n",
              " ['F'],\n",
              " ['H'],\n",
              " ['X'],\n",
              " ['W'],\n",
              " ['T'],\n",
              " ['K'],\n",
              " ['F'],\n",
              " ['Q'],\n",
              " ['L']]"
            ]
          },
          "metadata": {},
          "execution_count": 42
        }
      ]
    },
    {
      "cell_type": "code",
      "source": [
        "while len(C_new_abj)>len(dummy):\n",
        "  C_new_abj=C_new_abj[:-1]\n",
        "# Merubah list C_new_abj menjadi list angka\n",
        "C_new_angka = [angka[0] for angka in C_new_abj]\n",
        "\n",
        "# Cetak list angka C_new_abj\n",
        "print(C_new_angka)"
      ],
      "metadata": {
        "colab": {
          "base_uri": "https://localhost:8080/"
        },
        "id": "AmscTcSHS_qH",
        "outputId": "14cf6c0e-d151-434c-fb73-6834eb9dc7ae"
      },
      "execution_count": null,
      "outputs": [
        {
          "output_type": "stream",
          "name": "stdout",
          "text": [
            "['V', 'G', 'A', 'F', 'H', 'X', 'W', 'T', 'K']\n"
          ]
        }
      ]
    },
    {
      "cell_type": "code",
      "source": [
        "C_new_angka"
      ],
      "metadata": {
        "colab": {
          "base_uri": "https://localhost:8080/"
        },
        "id": "KOCffdU5T0-6",
        "outputId": "9ff7b54d-28d2-40b7-fd4b-2fa144de5505"
      },
      "execution_count": null,
      "outputs": [
        {
          "output_type": "execute_result",
          "data": {
            "text/plain": [
              "['V', 'G', 'A', 'F', 'H', 'X', 'W', 'T', 'K']"
            ]
          },
          "metadata": {},
          "execution_count": 44
        }
      ]
    },
    {
      "cell_type": "code",
      "source": [
        "len(C_new_angka)"
      ],
      "metadata": {
        "colab": {
          "base_uri": "https://localhost:8080/"
        },
        "id": "9mSlMyDbTvdI",
        "outputId": "498e3c30-e3b3-48c9-e12d-6e957a0ebb99"
      },
      "execution_count": null,
      "outputs": [
        {
          "output_type": "execute_result",
          "data": {
            "text/plain": [
              "9"
            ]
          },
          "metadata": {},
          "execution_count": 45
        }
      ]
    },
    {
      "cell_type": "code",
      "source": [
        "len(p_input)"
      ],
      "metadata": {
        "colab": {
          "base_uri": "https://localhost:8080/"
        },
        "id": "lYo00g9LTwJW",
        "outputId": "486226b2-3eee-408c-c217-aad9414bcc19"
      },
      "execution_count": null,
      "outputs": [
        {
          "output_type": "execute_result",
          "data": {
            "text/plain": [
              "11"
            ]
          },
          "metadata": {},
          "execution_count": 46
        }
      ]
    },
    {
      "cell_type": "code",
      "source": [
        "while len(p_input)>len(C_new_angka):\n",
        "  p_input=p_input[:-1]"
      ],
      "metadata": {
        "id": "P2qdNVJXUCUZ"
      },
      "execution_count": null,
      "outputs": []
    },
    {
      "cell_type": "code",
      "source": [
        "c"
      ],
      "metadata": {
        "colab": {
          "base_uri": "https://localhost:8080/",
          "height": 261
        },
        "id": "5B68H9AVUpkI",
        "outputId": "fb404545-ceb5-4771-f724-ed5aa7c43d61"
      },
      "execution_count": null,
      "outputs": [
        {
          "output_type": "execute_result",
          "data": {
            "text/plain": [
              "Matrix([\n",
              "[22],\n",
              "[ 7],\n",
              "[ 1],\n",
              "[ 6],\n",
              "[ 8],\n",
              "[24],\n",
              "[23],\n",
              "[20],\n",
              "[11],\n",
              "[ 6],\n",
              "[17],\n",
              "[12]])"
            ],
            "text/latex": "$\\displaystyle \\left[\\begin{matrix}22\\\\7\\\\1\\\\6\\\\8\\\\24\\\\23\\\\20\\\\11\\\\6\\\\17\\\\12\\end{matrix}\\right]$"
          },
          "metadata": {},
          "execution_count": 48
        }
      ]
    },
    {
      "cell_type": "code",
      "source": [
        "# Menghilangkan bracket dari ciphertext\n",
        "ciphertext = ''.join(str(angka) for angka in C_new_angka)\n",
        "\n",
        "# Cetak ciphertext\n",
        "print(\"Ciphertext:\", ciphertext)\n"
      ],
      "metadata": {
        "colab": {
          "base_uri": "https://localhost:8080/"
        },
        "id": "6Hj-N0wMSfsC",
        "outputId": "9a9bce23-d414-4fcb-f1ee-7740d13356f3"
      },
      "execution_count": null,
      "outputs": [
        {
          "output_type": "stream",
          "name": "stdout",
          "text": [
            "Ciphertext: VGAFHXWTK\n"
          ]
        }
      ]
    },
    {
      "cell_type": "code",
      "source": [
        "# Berikan spasi pada chipertext sesuai spasi di plaintext p, tetap namai c\n",
        "for j in range(len(ciphertext)):\n",
        "  if p_input[j]==\" \":\n",
        "    ciphertext = ciphertext[0:j] +\" \"+ciphertext[j:]\n",
        "print(\"Chipertext:\", ciphertext)"
      ],
      "metadata": {
        "colab": {
          "base_uri": "https://localhost:8080/"
        },
        "id": "ABmPabhjVDU4",
        "outputId": "96eccb25-8eed-4913-8a4d-6b6d79d5c417"
      },
      "execution_count": null,
      "outputs": [
        {
          "output_type": "stream",
          "name": "stdout",
          "text": [
            "Chipertext: V GA FHXWTK\n"
          ]
        }
      ]
    }
  ]
}